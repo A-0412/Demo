{
 "cells": [
  {
   "cell_type": "code",
   "execution_count": 1,
   "metadata": {},
   "outputs": [
    {
     "name": "stdout",
     "output_type": "stream",
     "text": [
      "15\n"
     ]
    }
   ],
   "source": [
    "sum = 1\n",
    "i = sum + 1\n",
    "while i <6:\n",
    "    sum =sum + i\n",
    "    i= i+1\n",
    "print(sum)\n"
   ]
  },
  {
   "cell_type": "code",
   "execution_count": null,
   "metadata": {},
   "outputs": [],
   "source": []
  },
  {
   "cell_type": "code",
   "execution_count": 4,
   "metadata": {},
   "outputs": [
    {
     "ename": "SyntaxError",
     "evalue": "invalid syntax (<ipython-input-4-8de1a2d04352>, line 1)",
     "output_type": "error",
     "traceback": [
      "\u001b[1;36m  File \u001b[1;32m\"<ipython-input-4-8de1a2d04352>\"\u001b[1;36m, line \u001b[1;32m1\u001b[0m\n\u001b[1;33m    x =  ['1','2','3','4','5','6','7'.'8','87','88','90']\u001b[0m\n\u001b[1;37m                                        ^\u001b[0m\n\u001b[1;31mSyntaxError\u001b[0m\u001b[1;31m:\u001b[0m invalid syntax\n"
     ]
    }
   ],
   "source": [
    "x =  ['1','2','3','4','5','6','7'.'8','87','88','90']\n",
    "x.count('8')\n",
    "print(\"8在x中出现的次数：\" ,x.count('8'))"
   ]
  },
  {
   "cell_type": "code",
   "execution_count": 5,
   "metadata": {},
   "outputs": [
    {
     "ename": "SyntaxError",
     "evalue": "invalid syntax (<ipython-input-5-4ca1ba14fe73>, line 1)",
     "output_type": "error",
     "traceback": [
      "\u001b[1;36m  File \u001b[1;32m\"<ipython-input-5-4ca1ba14fe73>\"\u001b[1;36m, line \u001b[1;32m1\u001b[0m\n\u001b[1;33m    x =  ['1','2','3','4','5','6','7'.'8','87','88','90']\u001b[0m\n\u001b[1;37m                                        ^\u001b[0m\n\u001b[1;31mSyntaxError\u001b[0m\u001b[1;31m:\u001b[0m invalid syntax\n"
     ]
    }
   ],
   "source": [
    "x =  ['1','2','3','4','5','6','7'.'8','87','88','90']\n",
    "l = x.count('8')\n",
    "print(\"8在x中出现的次数：\" ,l)"
   ]
  },
  {
   "cell_type": "code",
   "execution_count": 7,
   "metadata": {},
   "outputs": [
    {
     "name": "stdout",
     "output_type": "stream",
     "text": [
      "8在x中出现的次数： 1\n"
     ]
    }
   ],
   "source": [
    "x =  ['1','2','3','4','5','6','7','8','87','88','90']\n",
    "l = x.count('8')\n",
    "print(\"8在x中出现的次数：\" ,l)"
   ]
  },
  {
   "cell_type": "code",
   "execution_count": null,
   "metadata": {},
   "outputs": [],
   "source": []
  }
 ],
 "metadata": {
  "kernelspec": {
   "display_name": "Python 3",
   "language": "python",
   "name": "python3"
  },
  "language_info": {
   "codemirror_mode": {
    "name": "ipython",
    "version": 3
   },
   "file_extension": ".py",
   "mimetype": "text/x-python",
   "name": "python",
   "nbconvert_exporter": "python",
   "pygments_lexer": "ipython3",
   "version": "3.6.5"
  }
 },
 "nbformat": 4,
 "nbformat_minor": 2
}
